{
 "cells": [
  {
   "cell_type": "code",
   "execution_count": 5,
   "id": "1d27171d",
   "metadata": {},
   "outputs": [],
   "source": [
    "import pandas as pd\n",
    "from PIL import Image\n",
    "import numpy as np"
   ]
  },
  {
   "cell_type": "code",
   "execution_count": 39,
   "id": "453b9650",
   "metadata": {},
   "outputs": [],
   "source": [
    "data = pd.read_json(\"../Data/data_frame.json\", orient='records', lines=True)"
   ]
  },
  {
   "cell_type": "code",
   "execution_count": 40,
   "id": "74a77a44",
   "metadata": {},
   "outputs": [
    {
     "data": {
      "text/html": [
       "<div>\n",
       "<style scoped>\n",
       "    .dataframe tbody tr th:only-of-type {\n",
       "        vertical-align: middle;\n",
       "    }\n",
       "\n",
       "    .dataframe tbody tr th {\n",
       "        vertical-align: top;\n",
       "    }\n",
       "\n",
       "    .dataframe thead th {\n",
       "        text-align: right;\n",
       "    }\n",
       "</style>\n",
       "<table border=\"1\" class=\"dataframe\">\n",
       "  <thead>\n",
       "    <tr style=\"text-align: right;\">\n",
       "      <th></th>\n",
       "      <th>label</th>\n",
       "      <th>image_vector</th>\n",
       "    </tr>\n",
       "  </thead>\n",
       "  <tbody>\n",
       "    <tr>\n",
       "      <th>0</th>\n",
       "      <td>s1</td>\n",
       "      <td>[48, 49, 45, 47, 49, 57, 39, 42, 53, 49, 53, 6...</td>\n",
       "    </tr>\n",
       "  </tbody>\n",
       "</table>\n",
       "</div>"
      ],
      "text/plain": [
       "  label                                       image_vector\n",
       "0    s1  [48, 49, 45, 47, 49, 57, 39, 42, 53, 49, 53, 6..."
      ]
     },
     "execution_count": 40,
     "metadata": {},
     "output_type": "execute_result"
    }
   ],
   "source": [
    "data.head(1)"
   ]
  },
  {
   "cell_type": "code",
   "execution_count": 41,
   "id": "09a16616",
   "metadata": {},
   "outputs": [],
   "source": [
    "D = np.stack(data['image_vector'].values)"
   ]
  },
  {
   "cell_type": "code",
   "execution_count": 42,
   "id": "aeaf2ec5",
   "metadata": {},
   "outputs": [
    {
     "data": {
      "text/plain": [
       "array([[ 48,  49,  45, ...,  47,  46,  46],\n",
       "       [ 34,  34,  33, ...,  37,  40,  33],\n",
       "       [ 60,  60,  62, ...,  32,  34,  34],\n",
       "       ...,\n",
       "       [112, 109, 116, ...,  93,  88,  92],\n",
       "       [111, 114, 112, ...,  88,  86,  92],\n",
       "       [110, 112, 113, ...,  92,  87,  90]])"
      ]
     },
     "execution_count": 42,
     "metadata": {},
     "output_type": "execute_result"
    }
   ],
   "source": [
    "D"
   ]
  },
  {
   "cell_type": "code",
   "execution_count": 43,
   "id": "dfe6c32f",
   "metadata": {},
   "outputs": [
    {
     "data": {
      "text/plain": [
       "10304"
      ]
     },
     "execution_count": 43,
     "metadata": {},
     "output_type": "execute_result"
    }
   ],
   "source": [
    "len(D[0])"
   ]
  },
  {
   "cell_type": "code",
   "execution_count": 44,
   "id": "0ed7b337",
   "metadata": {},
   "outputs": [],
   "source": [
    "y = data['label'].values "
   ]
  },
  {
   "cell_type": "code",
   "execution_count": 45,
   "id": "76733308",
   "metadata": {},
   "outputs": [
    {
     "data": {
      "text/plain": [
       "array(['s1', 's1', 's1', 's1', 's1', 's1', 's1', 's1', 's1', 's1', 's10',\n",
       "       's10', 's10', 's10', 's10', 's10', 's10', 's10', 's10', 's10',\n",
       "       's11', 's11', 's11', 's11', 's11', 's11', 's11', 's11', 's11',\n",
       "       's11', 's12', 's12', 's12', 's12', 's12', 's12', 's12', 's12',\n",
       "       's12', 's12', 's13', 's13', 's13', 's13', 's13', 's13', 's13',\n",
       "       's13', 's13', 's13', 's14', 's14', 's14', 's14', 's14', 's14',\n",
       "       's14', 's14', 's14', 's14', 's15', 's15', 's15', 's15', 's15',\n",
       "       's15', 's15', 's15', 's15', 's15', 's16', 's16', 's16', 's16',\n",
       "       's16', 's16', 's16', 's16', 's16', 's16', 's17', 's17', 's17',\n",
       "       's17', 's17', 's17', 's17', 's17', 's17', 's17', 's18', 's18',\n",
       "       's18', 's18', 's18', 's18', 's18', 's18', 's18', 's18', 's19',\n",
       "       's19', 's19', 's19', 's19', 's19', 's19', 's19', 's19', 's19',\n",
       "       's2', 's2', 's2', 's2', 's2', 's2', 's2', 's2', 's2', 's2', 's20',\n",
       "       's20', 's20', 's20', 's20', 's20', 's20', 's20', 's20', 's20',\n",
       "       's21', 's21', 's21', 's21', 's21', 's21', 's21', 's21', 's21',\n",
       "       's21', 's22', 's22', 's22', 's22', 's22', 's22', 's22', 's22',\n",
       "       's22', 's22', 's23', 's23', 's23', 's23', 's23', 's23', 's23',\n",
       "       's23', 's23', 's23', 's24', 's24', 's24', 's24', 's24', 's24',\n",
       "       's24', 's24', 's24', 's24', 's25', 's25', 's25', 's25', 's25',\n",
       "       's25', 's25', 's25', 's25', 's25', 's26', 's26', 's26', 's26',\n",
       "       's26', 's26', 's26', 's26', 's26', 's26', 's27', 's27', 's27',\n",
       "       's27', 's27', 's27', 's27', 's27', 's27', 's27', 's28', 's28',\n",
       "       's28', 's28', 's28', 's28', 's28', 's28', 's28', 's28', 's29',\n",
       "       's29', 's29', 's29', 's29', 's29', 's29', 's29', 's29', 's29',\n",
       "       's3', 's3', 's3', 's3', 's3', 's3', 's3', 's3', 's3', 's3', 's30',\n",
       "       's30', 's30', 's30', 's30', 's30', 's30', 's30', 's30', 's30',\n",
       "       's31', 's31', 's31', 's31', 's31', 's31', 's31', 's31', 's31',\n",
       "       's31', 's32', 's32', 's32', 's32', 's32', 's32', 's32', 's32',\n",
       "       's32', 's32', 's33', 's33', 's33', 's33', 's33', 's33', 's33',\n",
       "       's33', 's33', 's33', 's34', 's34', 's34', 's34', 's34', 's34',\n",
       "       's34', 's34', 's34', 's34', 's35', 's35', 's35', 's35', 's35',\n",
       "       's35', 's35', 's35', 's35', 's35', 's36', 's36', 's36', 's36',\n",
       "       's36', 's36', 's36', 's36', 's36', 's36', 's37', 's37', 's37',\n",
       "       's37', 's37', 's37', 's37', 's37', 's37', 's37', 's38', 's38',\n",
       "       's38', 's38', 's38', 's38', 's38', 's38', 's38', 's38', 's39',\n",
       "       's39', 's39', 's39', 's39', 's39', 's39', 's39', 's39', 's39',\n",
       "       's4', 's4', 's4', 's4', 's4', 's4', 's4', 's4', 's4', 's4', 's40',\n",
       "       's40', 's40', 's40', 's40', 's40', 's40', 's40', 's40', 's40',\n",
       "       's5', 's5', 's5', 's5', 's5', 's5', 's5', 's5', 's5', 's5', 's6',\n",
       "       's6', 's6', 's6', 's6', 's6', 's6', 's6', 's6', 's6', 's7', 's7',\n",
       "       's7', 's7', 's7', 's7', 's7', 's7', 's7', 's7', 's8', 's8', 's8',\n",
       "       's8', 's8', 's8', 's8', 's8', 's8', 's8', 's9', 's9', 's9', 's9',\n",
       "       's9', 's9', 's9', 's9', 's9', 's9'], dtype=object)"
      ]
     },
     "execution_count": 45,
     "metadata": {},
     "output_type": "execute_result"
    }
   ],
   "source": [
    "y"
   ]
  },
  {
   "cell_type": "code",
   "execution_count": 46,
   "id": "732cbe38",
   "metadata": {},
   "outputs": [],
   "source": [
    "from sklearn.model_selection import train_test_split"
   ]
  },
  {
   "cell_type": "code",
   "execution_count": 47,
   "id": "e7c7ff67",
   "metadata": {},
   "outputs": [],
   "source": [
    "X_train = D[: : 2]\n",
    "X_test = D[1: : 2]\n",
    "\n",
    "y_train = y[: : 2]\n",
    "y_test = y[1: : 2]"
   ]
  },
  {
   "cell_type": "code",
   "execution_count": 48,
   "id": "9a1ae332",
   "metadata": {},
   "outputs": [
    {
     "data": {
      "text/plain": [
       "array(['s1', 's1', 's1', 's1', 's1', 's10', 's10', 's10', 's10', 's10',\n",
       "       's11', 's11', 's11', 's11', 's11', 's12', 's12', 's12', 's12',\n",
       "       's12', 's13', 's13', 's13', 's13', 's13', 's14', 's14', 's14',\n",
       "       's14', 's14', 's15', 's15', 's15', 's15', 's15', 's16', 's16',\n",
       "       's16', 's16', 's16', 's17', 's17', 's17', 's17', 's17', 's18',\n",
       "       's18', 's18', 's18', 's18', 's19', 's19', 's19', 's19', 's19',\n",
       "       's2', 's2', 's2', 's2', 's2', 's20', 's20', 's20', 's20', 's20',\n",
       "       's21', 's21', 's21', 's21', 's21', 's22', 's22', 's22', 's22',\n",
       "       's22', 's23', 's23', 's23', 's23', 's23', 's24', 's24', 's24',\n",
       "       's24', 's24', 's25', 's25', 's25', 's25', 's25', 's26', 's26',\n",
       "       's26', 's26', 's26', 's27', 's27', 's27', 's27', 's27', 's28',\n",
       "       's28', 's28', 's28', 's28', 's29', 's29', 's29', 's29', 's29',\n",
       "       's3', 's3', 's3', 's3', 's3', 's30', 's30', 's30', 's30', 's30',\n",
       "       's31', 's31', 's31', 's31', 's31', 's32', 's32', 's32', 's32',\n",
       "       's32', 's33', 's33', 's33', 's33', 's33', 's34', 's34', 's34',\n",
       "       's34', 's34', 's35', 's35', 's35', 's35', 's35', 's36', 's36',\n",
       "       's36', 's36', 's36', 's37', 's37', 's37', 's37', 's37', 's38',\n",
       "       's38', 's38', 's38', 's38', 's39', 's39', 's39', 's39', 's39',\n",
       "       's4', 's4', 's4', 's4', 's4', 's40', 's40', 's40', 's40', 's40',\n",
       "       's5', 's5', 's5', 's5', 's5', 's6', 's6', 's6', 's6', 's6', 's7',\n",
       "       's7', 's7', 's7', 's7', 's8', 's8', 's8', 's8', 's8', 's9', 's9',\n",
       "       's9', 's9', 's9'], dtype=object)"
      ]
     },
     "execution_count": 48,
     "metadata": {},
     "output_type": "execute_result"
    }
   ],
   "source": [
    "y_test"
   ]
  },
  {
   "cell_type": "code",
   "execution_count": 49,
   "id": "96187d38",
   "metadata": {},
   "outputs": [],
   "source": [
    "X_train_df=pd.DataFrame(X_train)\n",
    "X_test_df=pd.DataFrame(X_test)\n",
    "\n",
    "y_train_df=pd.DataFrame(y_train)\n",
    "y_test_df=pd.DataFrame(y_test)"
   ]
  },
  {
   "cell_type": "code",
   "execution_count": 50,
   "id": "8887b387",
   "metadata": {},
   "outputs": [
    {
     "data": {
      "text/html": [
       "<div>\n",
       "<style scoped>\n",
       "    .dataframe tbody tr th:only-of-type {\n",
       "        vertical-align: middle;\n",
       "    }\n",
       "\n",
       "    .dataframe tbody tr th {\n",
       "        vertical-align: top;\n",
       "    }\n",
       "\n",
       "    .dataframe thead th {\n",
       "        text-align: right;\n",
       "    }\n",
       "</style>\n",
       "<table border=\"1\" class=\"dataframe\">\n",
       "  <thead>\n",
       "    <tr style=\"text-align: right;\">\n",
       "      <th></th>\n",
       "      <th>0</th>\n",
       "    </tr>\n",
       "  </thead>\n",
       "  <tbody>\n",
       "    <tr>\n",
       "      <th>0</th>\n",
       "      <td>s1</td>\n",
       "    </tr>\n",
       "    <tr>\n",
       "      <th>1</th>\n",
       "      <td>s1</td>\n",
       "    </tr>\n",
       "    <tr>\n",
       "      <th>2</th>\n",
       "      <td>s1</td>\n",
       "    </tr>\n",
       "    <tr>\n",
       "      <th>3</th>\n",
       "      <td>s1</td>\n",
       "    </tr>\n",
       "    <tr>\n",
       "      <th>4</th>\n",
       "      <td>s1</td>\n",
       "    </tr>\n",
       "    <tr>\n",
       "      <th>5</th>\n",
       "      <td>s10</td>\n",
       "    </tr>\n",
       "    <tr>\n",
       "      <th>6</th>\n",
       "      <td>s10</td>\n",
       "    </tr>\n",
       "    <tr>\n",
       "      <th>7</th>\n",
       "      <td>s10</td>\n",
       "    </tr>\n",
       "    <tr>\n",
       "      <th>8</th>\n",
       "      <td>s10</td>\n",
       "    </tr>\n",
       "    <tr>\n",
       "      <th>9</th>\n",
       "      <td>s10</td>\n",
       "    </tr>\n",
       "  </tbody>\n",
       "</table>\n",
       "</div>"
      ],
      "text/plain": [
       "     0\n",
       "0   s1\n",
       "1   s1\n",
       "2   s1\n",
       "3   s1\n",
       "4   s1\n",
       "5  s10\n",
       "6  s10\n",
       "7  s10\n",
       "8  s10\n",
       "9  s10"
      ]
     },
     "execution_count": 50,
     "metadata": {},
     "output_type": "execute_result"
    }
   ],
   "source": [
    "y_train_df.head(10)"
   ]
  },
  {
   "cell_type": "code",
   "execution_count": null,
   "id": "3f809116",
   "metadata": {},
   "outputs": [],
   "source": []
  },
  {
   "cell_type": "code",
   "execution_count": null,
   "id": "83136b69",
   "metadata": {},
   "outputs": [
    {
     "name": "stdout",
     "output_type": "stream",
     "text": [
      "Accuracy: 0.855\n"
     ]
    }
   ],
   "source": [
    "from sklearn.decomposition import PCA\n",
    "from sklearn.preprocessing import StandardScaler\n",
    "from sklearn.neighbors import KNeighborsClassifier\n",
    "from sklearn.metrics import accuracy_score\n",
    "\n",
    "scaler = StandardScaler()\n",
    "x_train_scaled = scaler.fit_transform(X_train)\n",
    "x_test_scaled = scaler.transform(X_test)\n",
    "\n",
    "pca = PCA(n_components=0.95)  \n",
    "x_train_pca = pca.fit_transform(x_train_scaled)\n",
    "x_test_pca = pca.transform(x_test_scaled)\n",
    "\n",
    "model = KNeighborsClassifier(n_neighbors=3)\n",
    "model.fit(x_train_pca, y_train)\n",
    "\n",
    "y_pred = model.predict(x_test_pca)\n",
    "acc = accuracy_score(y_test, y_pred)\n",
    "\n",
    "print(\"Accuracy:\", acc)\n"
   ]
  },
  {
   "cell_type": "code",
   "execution_count": null,
   "id": "1d1eb08c",
   "metadata": {},
   "outputs": [
    {
     "name": "stdout",
     "output_type": "stream",
     "text": [
      "LDA + KNN Accuracy: 0.915\n"
     ]
    }
   ],
   "source": [
    "from sklearn.preprocessing import StandardScaler\n",
    "from sklearn.discriminant_analysis import LinearDiscriminantAnalysis\n",
    "from sklearn.neighbors import KNeighborsClassifier\n",
    "from sklearn.metrics import accuracy_score\n",
    "\n",
    "scaler = StandardScaler()\n",
    "X_train_scaled = scaler.fit_transform(X_train)\n",
    "X_test_scaled = scaler.transform(X_test)\n",
    "\n",
    "lda = LinearDiscriminantAnalysis()\n",
    "X_train_lda = lda.fit_transform(X_train_scaled, y_train)\n",
    "X_test_lda = lda.transform(X_test_scaled)\n",
    "\n",
    "model = KNeighborsClassifier(n_neighbors=3)\n",
    "model.fit(X_train_lda, y_train)\n",
    "\n",
    "y_pred = model.predict(X_test_lda)\n",
    "acc = accuracy_score(y_test, y_pred)\n",
    "\n",
    "print(\"LDA + KNN Accuracy:\", acc)"
   ]
  }
 ],
 "metadata": {
  "kernelspec": {
   "display_name": "base",
   "language": "python",
   "name": "python3"
  },
  "language_info": {
   "codemirror_mode": {
    "name": "ipython",
    "version": 3
   },
   "file_extension": ".py",
   "mimetype": "text/x-python",
   "name": "python",
   "nbconvert_exporter": "python",
   "pygments_lexer": "ipython3",
   "version": "3.12.3"
  }
 },
 "nbformat": 4,
 "nbformat_minor": 5
}
