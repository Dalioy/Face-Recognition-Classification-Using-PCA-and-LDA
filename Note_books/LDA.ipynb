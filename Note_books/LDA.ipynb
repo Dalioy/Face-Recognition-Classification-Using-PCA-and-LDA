{
 "cells": [
  {
   "cell_type": "code",
   "execution_count": 2,
   "id": "0914bde4",
   "metadata": {},
   "outputs": [],
   "source": [
    "import pandas as pd \n",
    "import numpy as np \n",
    "from sklearn.neighbors import KNeighborsClassifier\n",
    "from sklearn.metrics import accuracy_score\n",
    "import sys\n",
    "import os\n",
    "sys.path.append(os.path.abspath('..'))\n",
    "from src.LDA import get_LDA, LDA_projected_data, Test_LDA\n",
    "from src.PCA import Test_PCA"
   ]
  },
  {
   "cell_type": "code",
   "execution_count": 3,
   "id": "c32cb5e8",
   "metadata": {},
   "outputs": [],
   "source": [
    "df = pd.read_json(\"../Data/data_frame.json\", orient='records', lines=True)\n",
    "D = np.stack(df['image_vector'].values)\n",
    "y = df['label'].values \n",
    "\n",
    "X_train = D[: : 2]\n",
    "X_test = D[1: : 2]\n",
    "\n",
    "y_train = y[: : 2]\n",
    "y_test = y[1: : 2]"
   ]
  },
  {
   "cell_type": "code",
   "execution_count": 4,
   "id": "16be6f12",
   "metadata": {},
   "outputs": [
    {
     "name": "stdout",
     "output_type": "stream",
     "text": [
      "(10304, 39)\n"
     ]
    }
   ],
   "source": [
    "LDA_projection_matrix = get_LDA(X_train,y_train)\n",
    "print(LDA_projection_matrix.shape)"
   ]
  },
  {
   "cell_type": "code",
   "execution_count": 5,
   "id": "b71a7b22",
   "metadata": {},
   "outputs": [
    {
     "name": "stdout",
     "output_type": "stream",
     "text": [
      "LDA Accuracy: 0.95\n"
     ]
    }
   ],
   "source": [
    "print(\"LDA Accuracy: \" + str(Test_LDA(X_train, X_test, y_train, y_test, LDA_projection_matrix,1)))"
   ]
  },
  {
   "cell_type": "code",
   "execution_count": 6,
   "id": "c60bc95e",
   "metadata": {},
   "outputs": [
    {
     "data": {
      "application/vnd.microsoft.datawrangler.viewer.v0+json": {
       "columns": [
        {
         "name": "k",
         "rawType": "int64",
         "type": "integer"
        },
        {
         "name": "accuracy",
         "rawType": "float64",
         "type": "float"
        }
       ],
       "ref": "1925cc67-e50e-4a29-a61f-d583e8c6fe68",
       "rows": [
        [
         "1",
         "0.95"
        ],
        [
         "3",
         "0.95"
        ],
        [
         "5",
         "0.95"
        ],
        [
         "7",
         "0.95"
        ],
        [
         "9",
         "0.95"
        ]
       ],
       "shape": {
        "columns": 1,
        "rows": 5
       }
      },
      "text/html": [
       "<div>\n",
       "<style scoped>\n",
       "    .dataframe tbody tr th:only-of-type {\n",
       "        vertical-align: middle;\n",
       "    }\n",
       "\n",
       "    .dataframe tbody tr th {\n",
       "        vertical-align: top;\n",
       "    }\n",
       "\n",
       "    .dataframe thead th {\n",
       "        text-align: right;\n",
       "    }\n",
       "</style>\n",
       "<table border=\"1\" class=\"dataframe\">\n",
       "  <thead>\n",
       "    <tr style=\"text-align: right;\">\n",
       "      <th></th>\n",
       "      <th>accuracy</th>\n",
       "    </tr>\n",
       "    <tr>\n",
       "      <th>k</th>\n",
       "      <th></th>\n",
       "    </tr>\n",
       "  </thead>\n",
       "  <tbody>\n",
       "    <tr>\n",
       "      <th>1</th>\n",
       "      <td>0.95</td>\n",
       "    </tr>\n",
       "    <tr>\n",
       "      <th>3</th>\n",
       "      <td>0.95</td>\n",
       "    </tr>\n",
       "    <tr>\n",
       "      <th>5</th>\n",
       "      <td>0.95</td>\n",
       "    </tr>\n",
       "    <tr>\n",
       "      <th>7</th>\n",
       "      <td>0.95</td>\n",
       "    </tr>\n",
       "    <tr>\n",
       "      <th>9</th>\n",
       "      <td>0.95</td>\n",
       "    </tr>\n",
       "  </tbody>\n",
       "</table>\n",
       "</div>"
      ],
      "text/plain": [
       "   accuracy\n",
       "k          \n",
       "1      0.95\n",
       "3      0.95\n",
       "5      0.95\n",
       "7      0.95\n",
       "9      0.95"
      ]
     },
     "execution_count": 6,
     "metadata": {},
     "output_type": "execute_result"
    }
   ],
   "source": [
    "k_values = [1, 3, 5, 7, 9]\n",
    "\n",
    "# Initialize a list to store the results\n",
    "results = []\n",
    "projected_X_train, projected_X_test = LDA_projected_data(X_train,X_test,LDA_projection_matrix)\n",
    "# Loop over the values of k\n",
    "for k in k_values:\n",
    "    knn = KNeighborsClassifier(n_neighbors=k, weights=\"distance\")\n",
    "    knn.fit(projected_X_train, y_train.ravel())\n",
    "    y_pred = knn.predict(projected_X_test)\n",
    "    accuracy = accuracy_score(y_test, y_pred.ravel())\n",
    "    results.append({\"accuracy\": accuracy})\n",
    "\n",
    "# Convert the results to a DataFrame\n",
    "df = pd.DataFrame(results, index=k_values)\n",
    "df.index.name = \"k\"\n",
    "df"
   ]
  },
  {
   "cell_type": "code",
   "execution_count": 7,
   "id": "f8f37393",
   "metadata": {},
   "outputs": [
    {
     "data": {
      "image/png": "[encoded data removed]",
      "text/plain": [
       "<Figure size 640x480 with 1 Axes>"
      ]
     },
     "metadata": {},
     "output_type": "display_data"
    }
   ],
   "source": [
    "import matplotlib.pyplot as plt\n",
    "plt.plot(df, marker=\"o\")\n",
    "plt.xlabel(\"K value\")\n",
    "plt.ylabel(\"Accuracy\")\n",
    "plt.title(\"Accuracy for different k values\")\n",
    "plt.grid(True)\n",
    "plt.show()"
   ]
  },
  {
   "cell_type": "code",
   "execution_count": 9,
   "id": "4eeeaeb0",
   "metadata": {},
   "outputs": [
    {
     "data": {
      "application/vnd.microsoft.datawrangler.viewer.v0+json": {
       "columns": [
        {
         "name": "index",
         "rawType": "object",
         "type": "string"
        },
        {
         "name": "1",
         "rawType": "object",
         "type": "string"
        },
        {
         "name": "3",
         "rawType": "object",
         "type": "string"
        },
        {
         "name": "5",
         "rawType": "object",
         "type": "string"
        },
        {
         "name": "7",
         "rawType": "object",
         "type": "string"
        },
        {
         "name": "9",
         "rawType": "object",
         "type": "string"
        }
       ],
       "ref": "d54bf1f9-da04-431a-afa6-898c166a9500",
       "rows": [
        [
         "PCA α = 0.8",
         "94.0%",
         "90.5%",
         "89.5%",
         "88.0%",
         "83.5%"
        ],
        [
         "PCA α = 0.85",
         "94.0%",
         "90.0%",
         "89.5%",
         "85.5%",
         "83.0%"
        ],
        [
         "PCA α = 0.9",
         "94.0%",
         "90.5%",
         "89.0%",
         "85.5%",
         "81.5%"
        ],
        [
         "PCA α = 0.95",
         "93.0%",
         "90.0%",
         "86.5%",
         "83.0%",
         "80.5%"
        ],
        [
         "LDA",
         "95.0%",
         "95.0%",
         "95.0%",
         "95.0%",
         "95.0%"
        ]
       ],
       "shape": {
        "columns": 5,
        "rows": 5
       }
      },
      "text/html": [
       "<div>\n",
       "<style scoped>\n",
       "    .dataframe tbody tr th:only-of-type {\n",
       "        vertical-align: middle;\n",
       "    }\n",
       "\n",
       "    .dataframe tbody tr th {\n",
       "        vertical-align: top;\n",
       "    }\n",
       "\n",
       "    .dataframe thead th {\n",
       "        text-align: right;\n",
       "    }\n",
       "</style>\n",
       "<table border=\"1\" class=\"dataframe\">\n",
       "  <thead>\n",
       "    <tr style=\"text-align: right;\">\n",
       "      <th></th>\n",
       "      <th>1</th>\n",
       "      <th>3</th>\n",
       "      <th>5</th>\n",
       "      <th>7</th>\n",
       "      <th>9</th>\n",
       "    </tr>\n",
       "  </thead>\n",
       "  <tbody>\n",
       "    <tr>\n",
       "      <th>PCA α = 0.8</th>\n",
       "      <td>94.0%</td>\n",
       "      <td>90.5%</td>\n",
       "      <td>89.5%</td>\n",
       "      <td>88.0%</td>\n",
       "      <td>83.5%</td>\n",
       "    </tr>\n",
       "    <tr>\n",
       "      <th>PCA α = 0.85</th>\n",
       "      <td>94.0%</td>\n",
       "      <td>90.0%</td>\n",
       "      <td>89.5%</td>\n",
       "      <td>85.5%</td>\n",
       "      <td>83.0%</td>\n",
       "    </tr>\n",
       "    <tr>\n",
       "      <th>PCA α = 0.9</th>\n",
       "      <td>94.0%</td>\n",
       "      <td>90.5%</td>\n",
       "      <td>89.0%</td>\n",
       "      <td>85.5%</td>\n",
       "      <td>81.5%</td>\n",
       "    </tr>\n",
       "    <tr>\n",
       "      <th>PCA α = 0.95</th>\n",
       "      <td>93.0%</td>\n",
       "      <td>90.0%</td>\n",
       "      <td>86.5%</td>\n",
       "      <td>83.0%</td>\n",
       "      <td>80.5%</td>\n",
       "    </tr>\n",
       "    <tr>\n",
       "      <th>LDA</th>\n",
       "      <td>95.0%</td>\n",
       "      <td>95.0%</td>\n",
       "      <td>95.0%</td>\n",
       "      <td>95.0%</td>\n",
       "      <td>95.0%</td>\n",
       "    </tr>\n",
       "  </tbody>\n",
       "</table>\n",
       "</div>"
      ],
      "text/plain": [
       "                  1      3      5      7      9\n",
       "PCA α = 0.8   94.0%  90.5%  89.5%  88.0%  83.5%\n",
       "PCA α = 0.85  94.0%  90.0%  89.5%  85.5%  83.0%\n",
       "PCA α = 0.9   94.0%  90.5%  89.0%  85.5%  81.5%\n",
       "PCA α = 0.95  93.0%  90.0%  86.5%  83.0%  80.5%\n",
       "LDA           95.0%  95.0%  95.0%  95.0%  95.0%"
      ]
     },
     "execution_count": 9,
     "metadata": {},
     "output_type": "execute_result"
    }
   ],
   "source": [
    "\n",
    "alpha = [0.8, 0.85, 0.9, 0.95]\n",
    "k_values = [1, 3, 5, 7, 9]\n",
    "variants = [\n",
    "    \"PCA α = 0.8\",\n",
    "    \"PCA α = 0.85\",\n",
    "    \"PCA α = 0.9\",\n",
    "    \"PCA α = 0.95\",\n",
    "    \"LDA\",\n",
    "]\n",
    "df = pd.DataFrame(index=variants, columns=k_values)\n",
    "for num_dominant_eigen_vectors in alpha:\n",
    "    for k in k_values:\n",
    "        for i in range(4):\n",
    "            pca_accuracy = Test_PCA(X_train,X_test,y_train,y_test,alpha[i], k)\n",
    "            df.loc[variants[i], k] = str(pca_accuracy * 100) + \"%\"\n",
    "        lda_accuracy = Test_LDA(X_train, X_test, y_train, y_test, LDA_projection_matrix,k)\n",
    "        df.loc[\"LDA\", k] = str(lda_accuracy * 100) + \"%\"\n",
    "df"
   ]
  }
 ],
 "metadata": {
  "kernelspec": {
   "display_name": "Python 3",
   "language": "python",
   "name": "python3"
  },
  "language_info": {
   "codemirror_mode": {
    "name": "ipython",
    "version": 3
   },
   "file_extension": ".py",
   "mimetype": "text/x-python",
   "name": "python",
   "nbconvert_exporter": "python",
   "pygments_lexer": "ipython3",
   "version": "3.12.4"
  }
 },
 "nbformat": 4,
 "nbformat_minor": 5
}
