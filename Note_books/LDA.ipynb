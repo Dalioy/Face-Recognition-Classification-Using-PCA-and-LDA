{
 "cells": [
  {
   "cell_type": "code",
   "execution_count": 19,
   "id": "0914bde4",
   "metadata": {},
   "outputs": [],
   "source": [
    "import pandas as pd \n",
    "import numpy as np \n",
    "from sklearn.neighbors import KNeighborsClassifier\n",
    "from sklearn.metrics import accuracy_score\n",
    "import sys\n",
    "import os\n",
    "sys.path.append(os.path.abspath('..'))\n",
    "from src.LDA import LDA_optimized"
   ]
  },
  {
   "cell_type": "code",
   "execution_count": 5,
   "id": "c32cb5e8",
   "metadata": {},
   "outputs": [],
   "source": [
    "df = pd.read_json(\"../Data/data_frame.json\", orient='records', lines=True)\n",
    "D = np.stack(df['image_vector'].values)\n",
    "y = df['label'].values \n",
    "\n",
    "X_train = D[: : 2]\n",
    "X_test = D[1: : 2]\n",
    "\n",
    "y_train = y[: : 2]\n",
    "y_test = y[1: : 2]"
   ]
  },
  {
   "cell_type": "code",
   "execution_count": 6,
   "id": "a20bede8",
   "metadata": {},
   "outputs": [
    {
     "ename": "ValueError",
     "evalue": "matmul: Input operand 1 has a mismatch in its core dimension 0, with gufunc signature (n?,k),(k,m?)->(n?,m?) (size 200 is different from 10304)",
     "output_type": "error",
     "traceback": [
      "\u001b[1;31m---------------------------------------------------------------------------\u001b[0m",
      "\u001b[1;31mValueError\u001b[0m                                Traceback (most recent call last)",
      "Cell \u001b[1;32mIn[6], line 1\u001b[0m\n\u001b[1;32m----> 1\u001b[0m projection_matrix_U\u001b[38;5;241m=\u001b[39m\u001b[43mLDA_optimized\u001b[49m\u001b[43m(\u001b[49m\u001b[43mX_train\u001b[49m\u001b[43m,\u001b[49m\u001b[43my_train\u001b[49m\u001b[43m)\u001b[49m\n\u001b[0;32m      2\u001b[0m X_proj \u001b[38;5;241m=\u001b[39m X_train \u001b[38;5;241m@\u001b[39m projection_matrix_U\n",
      "File \u001b[1;32me:\\@Career\\AI\\Technology\\Main Use\\ML\\College _Content\\PCA_Image_Recognition\\Face-Recognition-Classification-Using-PCA-and-LDA\\src\\LDA.py:44\u001b[0m, in \u001b[0;36mLDA_optimized\u001b[1;34m(D, y)\u001b[0m\n\u001b[0;32m     42\u001b[0m \u001b[38;5;66;03m# Step 6: Project Sb_dual to feature space\u001b[39;00m\n\u001b[0;32m     43\u001b[0m S_inv_root \u001b[38;5;241m=\u001b[39m V \u001b[38;5;241m@\u001b[39m np\u001b[38;5;241m.\u001b[39mdiag(\u001b[38;5;241m1\u001b[39m \u001b[38;5;241m/\u001b[39m S_vals)  \u001b[38;5;66;03m# shape: d x n\u001b[39;00m\n\u001b[1;32m---> 44\u001b[0m M \u001b[38;5;241m=\u001b[39m \u001b[43mS_inv_root\u001b[49m\u001b[38;5;241;43m.\u001b[39;49m\u001b[43mT\u001b[49m\u001b[43m \u001b[49m\u001b[38;5;241;43m@\u001b[39;49m\u001b[43m \u001b[49m\u001b[43mSb_dual\u001b[49m \u001b[38;5;241m@\u001b[39m S_inv_root  \u001b[38;5;66;03m# shape: n x n\u001b[39;00m\n\u001b[0;32m     46\u001b[0m \u001b[38;5;66;03m# Step 7: Eigendecomposition in small space\u001b[39;00m\n\u001b[0;32m     47\u001b[0m eigvals, eigvecs_small \u001b[38;5;241m=\u001b[39m np\u001b[38;5;241m.\u001b[39mlinalg\u001b[38;5;241m.\u001b[39meigh(M)\n",
      "\u001b[1;31mValueError\u001b[0m: matmul: Input operand 1 has a mismatch in its core dimension 0, with gufunc signature (n?,k),(k,m?)->(n?,m?) (size 200 is different from 10304)"
     ]
    }
   ],
   "source": [
    "projection_matrix_U=LDA_optimized(X_train,y_train)\n",
    "X_proj = X_train @ projection_matrix_U"
   ]
  },
  {
   "cell_type": "code",
   "execution_count": null,
   "id": "6e1ce20e",
   "metadata": {},
   "outputs": [],
   "source": [
    "knn = KNeighborsClassifier(n_neighbors=3)\n",
    "knn.fit(X_proj, y_train)"
   ]
  },
  {
   "cell_type": "code",
   "execution_count": null,
   "id": "063dfca9",
   "metadata": {},
   "outputs": [],
   "source": [
    "X_test_proj = X_test @ projection_matrix_U"
   ]
  },
  {
   "cell_type": "code",
   "execution_count": null,
   "id": "c2c71b07",
   "metadata": {},
   "outputs": [],
   "source": [
    "Y_pred = knn.predict(X_test_proj)"
   ]
  },
  {
   "cell_type": "code",
   "execution_count": null,
   "id": "e490d24a",
   "metadata": {},
   "outputs": [],
   "source": [
    "print(\"Accuracy:\", accuracy_score(y_test, Y_pred))"
   ]
  }
 ],
 "metadata": {
  "kernelspec": {
   "display_name": "base",
   "language": "python",
   "name": "python3"
  },
  "language_info": {
   "codemirror_mode": {
    "name": "ipython",
    "version": 3
   },
   "file_extension": ".py",
   "mimetype": "text/x-python",
   "name": "python",
   "nbconvert_exporter": "python",
   "pygments_lexer": "ipython3",
   "version": "3.12.3"
  }
 },
 "nbformat": 4,
 "nbformat_minor": 5
}
